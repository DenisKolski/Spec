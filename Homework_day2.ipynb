{
 "cells": [
  {
   "cell_type": "markdown",
   "metadata": {},
   "source": [
    "#### Решить системы линейных уравнений"
   ]
  },
  {
   "cell_type": "code",
   "execution_count": 1,
   "metadata": {},
   "outputs": [],
   "source": [
    "import numpy as np"
   ]
  },
  {
   "cell_type": "markdown",
   "metadata": {},
   "source": [
    "#### Задача №1\n",
    "$\\begin{cases} 3x_1 − 2x_2 + 5x_3 = 5 \\\\\n",
    " 6x_1 + 2x_2 − 5x_3 =− 2 \\\\\n",
    " 3x_1 − 6x_2 + 10x_3 = 11\n",
    " \\end{cases}$"
   ]
  },
  {
   "cell_type": "code",
   "execution_count": 10,
   "metadata": {},
   "outputs": [
    {
     "name": "stdout",
     "output_type": "stream",
     "text": [
      "x1 = 0.33333  x2 = -1.00000  x3 = 0.40000\n"
     ]
    }
   ],
   "source": [
    "a1 = np.array([[3,-2, 5], [6, 2, -5], [3,-6, 10]])\n",
    "b1 = np.array([5,-2, 11])\n",
    "x = list(np.linalg.solve(a1,b1))\n",
    "print('x1 = {:.5f}  x2 = {:.5f}  x3 = {:.5f}'.format(x[0],x[1],x[2]))"
   ]
  },
  {
   "cell_type": "markdown",
   "metadata": {},
   "source": [
    "#### Задача №2\n",
    "$\\begin{cases} \n",
    " 2x_1 − 2x_2 − 3x_3 − 2x_4 = 0 \\\\\n",
    "x_1 − x_2 + 2x_3 + x_4 = − 2 \\\\\n",
    "− 2x_1 + x_2 − x_3 + x_4 = − 1 \\\\\n",
    "x_1 − 2x_2 + 2x_3 + x_4 = − 4\n",
    " \\end{cases}$"
   ]
  },
  {
   "cell_type": "code",
   "execution_count": 12,
   "metadata": {},
   "outputs": [
    {
     "name": "stdout",
     "output_type": "stream",
     "text": [
      "x1 = 1.00000  x2 = 2.00000  x3 = 0.00000  x4 = -1.00000\n"
     ]
    }
   ],
   "source": [
    "a1 = np.array([[2,-2, -3, -2], [1, -1, 2, 1], [-2, 1, -1, 1], [1, -2, 2, 1]])\n",
    "b1 = np.array([0,-2, -1, -4])\n",
    "x = list(np.linalg.solve(a1,b1))\n",
    "print('x1 = {:.5f}  x2 = {:.5f}  x3 = {:.5f}  x4 = {:.5f}'.format(x[0],x[1],x[2],x[3]))"
   ]
  },
  {
   "cell_type": "markdown",
   "metadata": {},
   "source": [
    "#### Задача №3\n",
    "$\\begin{cases}\n",
    "5x_1 − x_2 − x_3 − 3x_4 = 1 \\\\\n",
    "5x_1 − x_2 + 5x_3 + 3x_4 = 3 \\\\\n",
    "5x_1 − x_2 − 7x_3 − 9x_4 = − 1\n",
    " \\end{cases}$"
   ]
  },
  {
   "cell_type": "code",
   "execution_count": 16,
   "metadata": {},
   "outputs": [
    {
     "data": {
      "text/plain": [
       "0.0"
      ]
     },
     "execution_count": 16,
     "metadata": {},
     "output_type": "execute_result"
    }
   ],
   "source": [
    "a1 = np.array([[5,-1, -1, -3], [5, -1, 5, 3], [5, -1, -7, -9], [0, 0, 0, 0]])\n",
    "b1 = np.array([1, 3, -1, 0])\n",
    "deter = np.linalg.det(a1); deter\n"
   ]
  },
  {
   "cell_type": "code",
   "execution_count": null,
   "metadata": {},
   "outputs": [],
   "source": [
    "Решения нет, так как детерминат (определитель) равен нулю."
   ]
  }
 ],
 "metadata": {
  "kernelspec": {
   "display_name": "Python 3",
   "language": "python",
   "name": "python3"
  },
  "language_info": {
   "codemirror_mode": {
    "name": "ipython",
    "version": 3
   },
   "file_extension": ".py",
   "mimetype": "text/x-python",
   "name": "python",
   "nbconvert_exporter": "python",
   "pygments_lexer": "ipython3",
   "version": "3.8.8"
  }
 },
 "nbformat": 4,
 "nbformat_minor": 4
}
